{
 "cells": [
  {
   "cell_type": "code",
   "execution_count": 1,
   "metadata": {},
   "outputs": [],
   "source": [
    "class Course:\n",
    "    __Totallessons=0 #总销量\n",
    "    __Totalincome=0 #总收入\n",
    "    _coures=[]\n",
    "    _evaluate=[]\n",
    "    @classmethod\n",
    "    def printcoures(cls):\n",
    "        print(\"总销量:\",cls.__Totallessons,\"总收入:\",cls.__Totalincome)"
   ]
  },
  {
   "cell_type": "code",
   "execution_count": 2,
   "metadata": {},
   "outputs": [],
   "source": [
    "class LessonsType(Course):\n",
    "    def __init__(self,Type,Price=0):\n",
    "        self.Type=Type\n",
    "        self,Price=Price"
   ]
  },
  {
   "cell_type": "code",
   "execution_count": 3,
   "metadata": {},
   "outputs": [],
   "source": [
    "class Teachers(Course):\n",
    "    def __init__(self,name,age):\n",
    "        self.name=name\n",
    "        self.age=age"
   ]
  },
  {
   "cell_type": "code",
   "execution_count": 4,
   "metadata": {},
   "outputs": [],
   "source": [
    "class Comment(Course):\n",
    "    def __init__(self,course,evaluate):\n",
    "        self.course=course\n",
    "        self.evaluate=evaluate\n",
    "    def addevaluate(self,str):\n",
    "        Course._evaluate.append({self.course:self.evaluate})\n"
   ]
  },
  {
   "cell_type": "code",
   "execution_count": 5,
   "metadata": {},
   "outputs": [],
   "source": [
    "class Lessons(LessonsType,Teachers):\n",
    "    def __init__(self,courseName:str,courseContent:str,courseType:bool,Price:int=0,Sale:bool=False,**kwargs):\n",
    "        LessonsType.__init__(self,courseType,Price)\n",
    "        Teachers.__init__(self,kwargs.items())\n",
    "        self.courseName=courseName\n",
    "        self.courseContent=courseContent\n",
    "        self.courseType=courseType\n",
    "        Course.__Totallessons+=1\n",
    "        if courseName not in Course._coures:\n",
    "            Course._coures.append(courseName)\n",
    "    def upShelf(self): #上架\n",
    "        self.Sale=True\n",
    "    def lowerShelf(self): #下架\n",
    "        self.Sale=False"
   ]
  },
  {
   "cell_type": "code",
   "execution_count": 6,
   "metadata": {},
   "outputs": [],
   "source": [
    "class BasicInfo(Course):\n",
    "    @classmethod\n",
    "    def printCoures(cls):\n",
    "        print(\"全部课程\",cls._coures)\n",
    "    def printEvaluate(cls):\n",
    "        print(\"课程评价\",cls._evaluate)"
   ]
  }
 ],
 "metadata": {
  "interpreter": {
   "hash": "67f1dc6f6f712f7142079021955b91e049abb319dcfdc9eed010dd73dd4d845d"
  },
  "kernelspec": {
   "display_name": "Python 3.9.10 64-bit",
   "language": "python",
   "name": "python3"
  },
  "language_info": {
   "codemirror_mode": {
    "name": "ipython",
    "version": 3
   },
   "file_extension": ".py",
   "mimetype": "text/x-python",
   "name": "python",
   "nbconvert_exporter": "python",
   "pygments_lexer": "ipython3",
   "version": "3.9.10"
  },
  "orig_nbformat": 4
 },
 "nbformat": 4,
 "nbformat_minor": 2
}
