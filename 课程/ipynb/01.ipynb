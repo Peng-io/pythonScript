{
 "cells": [
  {
   "cell_type": "markdown",
   "id": "e7383017ebc2e7d2",
   "metadata": {},
   "source": [
    "# 1. 求整数序列中出现次数最多的数\n",
    "本题要求统计一个整型序列中出现次数最多的整数及其出现次数。\n",
    "\n",
    "## 输入格式：\n",
    "输入在一行中给出序列中整数个数N（0<N≤1000），以及N个整数。数字间以空格分隔。\n",
    "\n",
    "## 输出格式：\n",
    "在一行中输出出现次数最多的整数及其出现次数，数字间以空格分隔。题目保证这样的数字是唯一的。\n",
    "\n",
    "### 输入样例：\n",
    "`10 3 2 -1 5 3 4 3 0 3 2` \n",
    "\n",
    "### 输出样例：\n",
    "`3 4`"
   ]
  },
  {
   "cell_type": "code",
   "execution_count": 3,
   "id": "f1c55543bb0d9c54",
   "metadata": {
    "is_executing": true
   },
   "outputs": [],
   "source": [
    "number=input().split()"
   ]
  },
  {
   "cell_type": "code",
   "execution_count": 2,
   "id": "20ea212687a53410",
   "metadata": {},
   "outputs": [
    {
     "ename": "IndexError",
     "evalue": "list index out of range",
     "output_type": "error",
     "traceback": [
      "\u001b[1;31m---------------------------------------------------------------------------\u001b[0m",
      "\u001b[1;31mIndexError\u001b[0m                                Traceback (most recent call last)",
      "Cell \u001b[1;32mIn[2], line 2\u001b[0m\n\u001b[0;32m      1\u001b[0m j\u001b[38;5;241m=\u001b[39m\u001b[38;5;241m0\u001b[39m\n\u001b[1;32m----> 2\u001b[0m Max\u001b[38;5;241m=\u001b[39mnumber\u001b[38;5;241m.\u001b[39mcount(\u001b[43mnumber\u001b[49m\u001b[43m[\u001b[49m\u001b[38;5;241;43m0\u001b[39;49m\u001b[43m]\u001b[49m)\n\u001b[0;32m      3\u001b[0m \u001b[38;5;28;01mfor\u001b[39;00m i \u001b[38;5;129;01min\u001b[39;00m number:\n\u001b[0;32m      4\u001b[0m     \u001b[38;5;28;01mif\u001b[39;00m number\u001b[38;5;241m.\u001b[39mcount(i)\u001b[38;5;241m>\u001b[39mMax:\n",
      "\u001b[1;31mIndexError\u001b[0m: list index out of range"
     ]
    }
   ],
   "source": [
    "j=0\n",
    "Max=number.count(number[0])\n",
    "for i in number:\n",
    "    if number.count(i)>Max:\n",
    "        Max=number.count(i)\n",
    "        j=i"
   ]
  },
  {
   "cell_type": "code",
   "execution_count": null,
   "id": "ca9704f29adb9d73",
   "metadata": {},
   "outputs": [
    {
     "name": "stdout",
     "output_type": "stream",
     "text": [
      "2 2\n"
     ]
    }
   ],
   "source": [
    "print(j,Max)"
   ]
  },
  {
   "cell_type": "markdown",
   "id": "194f657045c52f1f",
   "metadata": {},
   "source": [
    "# 2. 使用函数求素数和\n",
    "\n",
    "* prime(p), 其中函数prime当用户传入参数p为素数时返回True，否则返回False.\n",
    "* PrimeSum(m,n),函数PrimeSum返回区间[m, n]内所有素数的和。题目保证用户传入的参数1<=m<n。\n",
    "\n",
    "### 判定程序："
   ]
  },
  {
   "cell_type": "code",
   "execution_count": null,
   "id": "f259ebcf",
   "metadata": {},
   "outputs": [],
   "source": [
    "def prime(n):\n",
    "    j=0\n",
    "    for i in range(1,n+1):\n",
    "        if n%i==0:\n",
    "            j+=1\n",
    "    if j==2:\n",
    "        return True"
   ]
  },
  {
   "cell_type": "code",
   "execution_count": null,
   "id": "5275232a",
   "metadata": {},
   "outputs": [],
   "source": [
    "def PrimeSum(m,n):\n",
    "    j=0\n",
    "    for i in range(m,n+1):\n",
    "        if prime(i)==True:\n",
    "            j+=i\n",
    "    return j"
   ]
  },
  {
   "cell_type": "code",
   "execution_count": null,
   "id": "539a86e076718aa5",
   "metadata": {},
   "outputs": [
    {
     "name": "stdout",
     "output_type": "stream",
     "text": [
      "17\n"
     ]
    }
   ],
   "source": [
    "m,n=input().split()\n",
    "m=int(m)\n",
    "n=int(n)\n",
    "print(PrimeSum(m,n))"
   ]
  },
  {
   "cell_type": "markdown",
   "id": "c31a5ea19958da42",
   "metadata": {},
   "source": [
    "### 输入样例\n",
    "`1 10`\n",
    "### 输出样例\n",
    "`17`"
   ]
  },
  {
   "cell_type": "markdown",
   "id": "cd4600eb6b0c3a41",
   "metadata": {},
   "source": [
    "# 3. 最大公约数和最小公倍数\n",
    "本题要求两个给定正整数的最大公约数和最小公倍数。\n",
    "\n",
    "## 输入格式:\n",
    "输入在一行中给出两个正整数M和N（≤1000）。\n",
    "\n",
    "## 输出格式:\n",
    "在一行中顺序输出M和N的最大公约数和最小公倍数，两数字间以1空格分隔。\n",
    "\n",
    "### 输入样例:\n",
    "`511 292`\n",
    "### 输出样例:\n",
    "`73 2044`"
   ]
  },
  {
   "cell_type": "code",
   "execution_count": null,
   "id": "6a41502cd42afbe9",
   "metadata": {},
   "outputs": [],
   "source": [
    "m,n=input(\"请输入两个正整数:\").split()\n",
    "if m>n:\n",
    "    m=int(m)\n",
    "    n=int(n)\n",
    "else:\n",
    "    m=int(n)\n",
    "    n=int(m)\n",
    "term=0\n"
   ]
  },
  {
   "cell_type": "code",
   "execution_count": null,
   "id": "9c0a7bdab2994844",
   "metadata": {},
   "outputs": [],
   "source": [
    "for i in range(n,0,-1):\n",
    "     if m%i==0 and n%i==0:\n",
    "         term=i\n",
    "         break"
   ]
  },
  {
   "cell_type": "code",
   "execution_count": null,
   "id": "9783b67ba95fe5f9",
   "metadata": {},
   "outputs": [
    {
     "name": "stdout",
     "output_type": "stream",
     "text": [
      "最大公约数:73,最小公倍数是:2044\n"
     ]
    }
   ],
   "source": [
    "print(\"最大公约数:{},最小公倍数是:{}\".format(term,int(m*n/term)))"
   ]
  },
  {
   "attachments": {
    "image.png": {
     "image/png": "[encoded data removed]"
    }
   },
   "cell_type": "markdown",
   "id": "cccb50502210ff03",
   "metadata": {},
   "source": [
    "# 4. 使用函数求余弦函数的近似值\n",
    "本题要求实现一个函数，用下列公式求cos(x)近似值，精确到最后一项的绝对值小于eps（绝对值小于eps的项不要加）：\n",
    "![image.png](attachment:image.png)\n",
    "\n",
    "\n",
    "## 函数接口定义\n",
    "funcos(eps,x),其中用户传入的参数为eps和x；   \n",
    "函数funcos应返回用给定公式计算出来，保留小数4位。\n",
    "\n",
    "### 裁判测试程序样例：\n",
    "在这里给出函数被调用进行测试的例子。例如：\n"
   ]
  },
  {
   "cell_type": "code",
   "execution_count": null,
   "id": "3d5ac15eaf62971c",
   "metadata": {},
   "outputs": [
    {
     "name": "stdout",
     "output_type": "stream",
     "text": [
      "cos(-3.1) = -0.9991\n"
     ]
    }
   ],
   "source": [
    "'''请在这里填写答案'''\n",
    "def Num(n):\n",
    "    if n==0:\n",
    "        return 1\n",
    "    else:return n*Num(n-1)\n",
    "def funcos(eps,x):\n",
    "    i=0\n",
    "    temp=0\n",
    "    while True:\n",
    "        if abs((((-1)**i)*(x**(2*i)))/Num(2*i))>=eps:\n",
    "            temp+=((((-1)**i)*(x**(2*i)))/Num(2*i))\n",
    "        else:\n",
    "            return temp\n",
    "        i+=1\n",
    "eps,x=input().split()   \n",
    "eps,x=float(eps),float(x)   \n",
    "value=funcos(eps,x )   \n",
    "print(\"cos({0}) = {1:.4f}\".format(x,value))   "
   ]
  },
  {
   "cell_type": "markdown",
   "id": "bc0167ee61bbac40",
   "metadata": {},
   "source": [
    "### 输入样例：\n",
    "`0.0001  -3.1`\n",
    "### 输出样例：\n",
    "`cos(-3.1) = -0.9991`"
   ]
  }
 ],
 "metadata": {
  "kernelspec": {
   "display_name": "Python 3",
   "language": "python",
   "name": "python3"
  },
  "language_info": {
   "codemirror_mode": {
    "name": "ipython",
    "version": 3
   },
   "file_extension": ".py",
   "mimetype": "text/x-python",
   "name": "python",
   "nbconvert_exporter": "python",
   "pygments_lexer": "ipython3",
   "version": "3.11.8"
  }
 },
 "nbformat": 4,
 "nbformat_minor": 5
}
