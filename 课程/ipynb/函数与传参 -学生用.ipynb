{
 "cells": [
  {
   "cell_type": "code",
   "execution_count": 1,
   "id": "85f6f5bb",
   "metadata": {},
   "outputs": [],
   "source": [
    "from IPython.core.interactiveshell import InteractiveShell\n",
    "\n",
    "InteractiveShell.ast_node_interactivity = \"all\""
   ]
  },
  {
   "cell_type": "markdown",
   "id": "671b81ec",
   "metadata": {},
   "source": [
    "# Python的函数和方法\n",
    "## 化整为零之 函数/方法\n",
    "## 构建一个最简单函数"
   ]
  },
  {
   "cell_type": "code",
   "execution_count": 2,
   "id": "155b5497",
   "metadata": {},
   "outputs": [],
   "source": [
    "# 声明函数使用关键字def\n",
    "def print_name():\n",
    "    print(\"张三\")"
   ]
  },
  {
   "cell_type": "code",
   "execution_count": 3,
   "id": "6d50a6dc",
   "metadata": {
    "scrolled": true
   },
   "outputs": [
    {
     "name": "stdout",
     "output_type": "stream",
     "text": [
      "彭松浩\n"
     ]
    }
   ],
   "source": [
    "# 调用函数-- 函数名字 +（）= 函数的功能\n",
    "print_name()"
   ]
  },
  {
   "cell_type": "markdown",
   "id": "01894640",
   "metadata": {},
   "source": [
    "**注意**：函数一定要声明了才能调用"
   ]
  },
  {
   "cell_type": "code",
   "execution_count": 4,
   "id": "acc5930a",
   "metadata": {},
   "outputs": [],
   "source": [
    "# 定义一个带有return的函数\n",
    "def return_name():\n",
    "    return \"张三\""
   ]
  },
  {
   "cell_type": "code",
   "execution_count": 5,
   "id": "e89c7208",
   "metadata": {},
   "outputs": [
    {
     "name": "stdout",
     "output_type": "stream",
     "text": [
      "彭松浩\n"
     ]
    }
   ],
   "source": [
    "# 将return回来的值放入变量并输出\n",
    "name = return_name()\n",
    "print(name)"
   ]
  },
  {
   "cell_type": "markdown",
   "id": "0b676ea4",
   "metadata": {},
   "source": [
    "### 函数的说明文档"
   ]
  },
  {
   "cell_type": "code",
   "execution_count": 6,
   "id": "dd0f9ecd",
   "metadata": {},
   "outputs": [
    {
     "name": "stdout",
     "output_type": "stream",
     "text": [
      "hello Python\n",
      "2\n"
     ]
    }
   ],
   "source": [
    "# 给下列函数添加说明文档，并将文档输出\n",
    "def my_function():\n",
    "    \"\"\"\n",
    "    说明：函数会返回一个整形值并且打印\"hello python\"\n",
    "    \"\"\"\n",
    "    a = 1 + 1\n",
    "    print('hello Python')\n",
    "    return a\n",
    "\n",
    "\n",
    "my_func = my_function()\n",
    "print(my_func)"
   ]
  },
  {
   "cell_type": "code",
   "execution_count": 7,
   "id": "92551313",
   "metadata": {
    "scrolled": true
   },
   "outputs": [
    {
     "name": "stdout",
     "output_type": "stream",
     "text": [
      "Help on function my_function in module __main__:\n",
      "\n",
      "my_function()\n",
      "    说明：函数会返回一个整形值并且打印\"hello python\"\n"
     ]
    }
   ],
   "source": [
    "#使用help输出\n",
    "help(my_function)"
   ]
  },
  {
   "cell_type": "code",
   "execution_count": 8,
   "id": "330ac15b",
   "metadata": {
    "scrolled": true
   },
   "outputs": [],
   "source": [
    "# 使用.__doc__输出"
   ]
  },
  {
   "cell_type": "code",
   "execution_count": 9,
   "id": "2c9565a9",
   "metadata": {
    "scrolled": true
   },
   "outputs": [
    {
     "data": {
      "text/plain": [
       "'\\n    说明：函数会返回一个整形值并且打印\"hello python\"\\n    '"
      ]
     },
     "execution_count": 9,
     "metadata": {},
     "output_type": "execute_result"
    }
   ],
   "source": [
    "my_function.__doc__"
   ]
  },
  {
   "cell_type": "markdown",
   "id": "975fe973",
   "metadata": {},
   "source": [
    "## 函数的参数 （重点）"
   ]
  },
  {
   "cell_type": "code",
   "execution_count": 10,
   "id": "ed3c2adb",
   "metadata": {},
   "outputs": [],
   "source": [
    "# 定义无参函数\n",
    "def my_function():\n",
    "    print(\"hello word\")"
   ]
  },
  {
   "cell_type": "code",
   "execution_count": 11,
   "id": "8fc21b8c",
   "metadata": {},
   "outputs": [
    {
     "name": "stdout",
     "output_type": "stream",
     "text": [
      "hello word\n"
     ]
    }
   ],
   "source": [
    "# 调用\n",
    "my_function()"
   ]
  },
  {
   "cell_type": "code",
   "execution_count": 12,
   "id": "b4d6cde9",
   "metadata": {},
   "outputs": [],
   "source": [
    "# 定义有参函数\n",
    "def my_function(str_hello):\n",
    "    print(str_hello)"
   ]
  },
  {
   "cell_type": "code",
   "execution_count": 13,
   "id": "81f64331",
   "metadata": {
    "scrolled": false
   },
   "outputs": [
    {
     "name": "stdout",
     "output_type": "stream",
     "text": [
      "hello word\n"
     ]
    }
   ],
   "source": [
    "# 使用位置传参调用\n",
    "my_function(\"hello word\")"
   ]
  },
  {
   "cell_type": "code",
   "execution_count": 14,
   "id": "716a5419",
   "metadata": {
    "scrolled": true
   },
   "outputs": [
    {
     "name": "stdout",
     "output_type": "stream",
     "text": [
      "hello word\n"
     ]
    }
   ],
   "source": [
    "# 使用关键字传参进行调用\n",
    "my_function(str_hello=\"hello word\")"
   ]
  },
  {
   "cell_type": "markdown",
   "id": "c3c35a6c",
   "metadata": {},
   "source": [
    "**特别注意** 形参（关键字参数）总量在函数确定后，必须传入相应的实参，否则报错"
   ]
  },
  {
   "cell_type": "markdown",
   "id": "46bd5b68",
   "metadata": {},
   "source": [
    "### 默认参数"
   ]
  },
  {
   "cell_type": "code",
   "execution_count": 15,
   "id": "53eb5c53",
   "metadata": {},
   "outputs": [],
   "source": [
    "# 定义一个带默认参数的函数\n",
    "def my_name(name=\"张三\"):\n",
    "    print(name)\n"
   ]
  },
  {
   "cell_type": "code",
   "execution_count": 16,
   "id": "5905d1ef",
   "metadata": {},
   "outputs": [
    {
     "name": "stdout",
     "output_type": "stream",
     "text": [
      "彭松浩\n"
     ]
    }
   ],
   "source": [
    "# 不修改默认参数\n",
    "my_name()"
   ]
  },
  {
   "cell_type": "code",
   "execution_count": 17,
   "id": "2c86d0ca",
   "metadata": {},
   "outputs": [
    {
     "name": "stdout",
     "output_type": "stream",
     "text": [
      "地瓜\n"
     ]
    }
   ],
   "source": [
    "# 需要修改默认参数\n",
    "my_name(\"李四\")"
   ]
  },
  {
   "cell_type": "markdown",
   "id": "b30620e1",
   "metadata": {},
   "source": [
    "### 可变参数（*args）"
   ]
  },
  {
   "cell_type": "code",
   "execution_count": 18,
   "id": "987e58f1",
   "metadata": {},
   "outputs": [],
   "source": [
    "# 定义个带有可变参数的函数\n",
    "def my_valuea(*num):\n",
    "    print(num)"
   ]
  },
  {
   "cell_type": "code",
   "execution_count": 19,
   "id": "cda78b07",
   "metadata": {},
   "outputs": [
    {
     "name": "stdout",
     "output_type": "stream",
     "text": [
      "(1, 2, 3, 4, 5)\n"
     ]
    }
   ],
   "source": [
    "# 调用函数\n",
    "my_valuea(1, 2, 3, 4, 5)"
   ]
  },
  {
   "cell_type": "code",
   "execution_count": 20,
   "id": "d78db2fd",
   "metadata": {},
   "outputs": [],
   "source": [
    "# 直接传入列表类型  （注意有坑）\n",
    "## 第一种情况： 传入时按照列表多元素传入\n",
    "def addup1(*args):\n",
    "    print(args)\n",
    "    return sum(args)"
   ]
  },
  {
   "cell_type": "code",
   "execution_count": 21,
   "id": "22d72b46",
   "metadata": {},
   "outputs": [],
   "source": [
    "nums = [1, 2, 3, 4, 5, 6, 7, 8, 9, 10]\n",
    "# 将nums中数据作为分开的参数传入"
   ]
  },
  {
   "cell_type": "code",
   "execution_count": 22,
   "id": "a731a066",
   "metadata": {},
   "outputs": [
    {
     "name": "stdout",
     "output_type": "stream",
     "text": [
      "(1, 2, 3, 4, 5, 6, 7, 8, 9, 10)\n"
     ]
    },
    {
     "data": {
      "text/plain": [
       "55"
      ]
     },
     "execution_count": 22,
     "metadata": {},
     "output_type": "execute_result"
    }
   ],
   "source": [
    "# 将nums作为整体传入\n",
    "addup1(*nums)"
   ]
  },
  {
   "cell_type": "markdown",
   "id": "b5240280",
   "metadata": {},
   "source": [
    "**注意区分**：关键字参数与*args参数组（可变参数）混合使用"
   ]
  },
  {
   "cell_type": "code",
   "execution_count": 23,
   "id": "e73a213e",
   "metadata": {},
   "outputs": [],
   "source": [
    "def multi_values_1(name, *args):\n",
    "    print(name)\n",
    "    print(args)"
   ]
  },
  {
   "cell_type": "code",
   "execution_count": 37,
   "id": "205ce963",
   "metadata": {},
   "outputs": [
    {
     "name": "stdout",
     "output_type": "stream",
     "text": [
      "彭松浩\n",
      "(20, 172)\n"
     ]
    }
   ],
   "source": [
    "# 将姓名作为num1参数传递，之后传入年龄，身高。\n",
    "multi_values_1(\"彭松浩\", 20, 172)"
   ]
  },
  {
   "cell_type": "code",
   "execution_count": 25,
   "id": "ff2322ec",
   "metadata": {},
   "outputs": [],
   "source": [
    "# 如果将可变参数组（*args）放在前面，那后面参数只能使用关键字参数进行传递\n",
    "def multi_values_2(*args, name):\n",
    "    print(name)\n",
    "    print(args)"
   ]
  },
  {
   "cell_type": "code",
   "execution_count": 38,
   "id": "8eaedbaa",
   "metadata": {
    "scrolled": true
   },
   "outputs": [
    {
     "name": "stdout",
     "output_type": "stream",
     "text": [
      "彭松浩\n",
      "(20, 172)\n"
     ]
    }
   ],
   "source": [
    "# 先传入 年龄、身高，再传入姓名\n",
    "multi_values_2(20, 172, name=\"张三\")"
   ]
  },
  {
   "cell_type": "code",
   "execution_count": 39,
   "id": "e821eb08",
   "metadata": {},
   "outputs": [
    {
     "name": "stdout",
     "output_type": "stream",
     "text": [
      "100\n",
      "120\n",
      "(1, 2, 3)\n"
     ]
    }
   ],
   "source": [
    "# 默认关键字写在可变参数组后面，需要赋值时使用关键字传参\n",
    "def multi_values_4(num1, *args, num2=120):\n",
    "    print(num1)\n",
    "    print(num2)\n",
    "    print(args)\n",
    "\n",
    "\n",
    "list_data = [1, 2, 3]\n",
    "multi_values_4(100, *list_data)"
   ]
  },
  {
   "cell_type": "markdown",
   "id": "74968a61",
   "metadata": {},
   "source": [
    "### 可变关键字参数（参数组 **kwargs 双星号）"
   ]
  },
  {
   "cell_type": "code",
   "execution_count": 28,
   "id": "f51f9c5c",
   "metadata": {},
   "outputs": [],
   "source": [
    "# 常规方法 （直接 命名关键字/可变关键字）\n",
    "def multi_kw(**kwargs):\n",
    "    print(kwargs)"
   ]
  },
  {
   "cell_type": "code",
   "execution_count": 29,
   "id": "c4674b9c",
   "metadata": {},
   "outputs": [],
   "source": [
    "# 调用函数"
   ]
  },
  {
   "cell_type": "code",
   "execution_count": 33,
   "id": "c478bc72",
   "metadata": {},
   "outputs": [
    {
     "name": "stdout",
     "output_type": "stream",
     "text": [
      "{'姓名': '彭松浩', '年龄': 20}\n"
     ]
    }
   ],
   "source": [
    "multi_kw(姓名=\"张三\", 年龄=20)"
   ]
  },
  {
   "cell_type": "markdown",
   "id": "d2e28414",
   "metadata": {},
   "source": [
    "**全部参数混合搭配使用**"
   ]
  },
  {
   "cell_type": "code",
   "execution_count": 3,
   "id": "33dc1810",
   "metadata": {
    "scrolled": false,
    "ExecuteTime": {
     "end_time": "2024-12-24T05:40:41.059233Z",
     "start_time": "2024-12-24T05:40:41.055090Z"
    }
   },
   "outputs": [],
   "source": [
    "def school(name, location, *args, data_found='2012', **kwargs):\n",
    "    print('学校名称：', name)\n",
    "    print('学校地址：', location)\n",
    "    print('成立时间：', data_found)\n",
    "    print('学员名单：', args)\n",
    "    print('课程列表：', kwargs)\n"
   ]
  },
  {
   "cell_type": "code",
   "execution_count": 31,
   "id": "73a8098e",
   "metadata": {
    "scrolled": true
   },
   "outputs": [],
   "source": [
    "# 拟定信息，调用上面的函数"
   ]
  },
  {
   "cell_type": "code",
   "execution_count": 6,
   "id": "fc9579ad",
   "metadata": {
    "ExecuteTime": {
     "end_time": "2024-12-24T05:41:43.244112Z",
     "start_time": "2024-12-24T05:41:43.240383Z"
    }
   },
   "outputs": [
    {
     "name": "stdout",
     "output_type": "stream",
     "text": [
      "学校名称： xx大学\n",
      "学校地址： xx高校区\n",
      "成立时间： 2012\n",
      "学员名单： ('张三', '李四', '王五', '赵六')\n",
      "课程列表： {'专业课': 'c和c++', '通识课': '高数，英语'}\n"
     ]
    }
   ],
   "source": [
    "school(\"xx大学\", \"xx高校区\", \"张三\", \"李四\", \"王五\", \"赵六\", 专业课=\"c和c++\", 通识课=\"高数，英语\")"
   ]
  },
  {
   "cell_type": "code",
   "outputs": [],
   "source": [],
   "metadata": {
    "collapsed": false
   },
   "id": "895e26add6697ed6"
  }
 ],
 "metadata": {
  "kernelspec": {
   "display_name": "Python 3 (ipykernel)",
   "language": "python",
   "name": "python3"
  },
  "language_info": {
   "codemirror_mode": {
    "name": "ipython",
    "version": 3
   },
   "file_extension": ".py",
   "mimetype": "text/x-python",
   "name": "python",
   "nbconvert_exporter": "python",
   "pygments_lexer": "ipython3",
   "version": "3.9.10"
  }
 },
 "nbformat": 4,
 "nbformat_minor": 5
}
