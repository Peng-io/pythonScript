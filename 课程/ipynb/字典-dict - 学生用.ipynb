{
 "cells": [
  {
   "cell_type": "markdown",
   "id": "a39638f4",
   "metadata": {},
   "source": [
    "# python 多元数据类型\n",
    "## 字典 dict"
   ]
  },
  {
   "cell_type": "markdown",
   "id": "0484bd09",
   "metadata": {},
   "source": [
    "### 构建一个简单的字典"
   ]
  },
  {
   "cell_type": "code",
   "execution_count": 1,
   "id": "add42cd4",
   "metadata": {},
   "outputs": [
    {
     "name": "stdout",
     "output_type": "stream",
     "text": [
      "{'学校': '万门大学', '创建于': 2012, '课程': ['Python基础', 'Python Django', 'Python爬虫'], '部门': ('策划部', '市场部', '人力资源'), '老师': {'Python基础': '正正', 'Django': '宁夫'}}\n",
      "<class 'dict'>\n"
     ]
    }
   ],
   "source": [
    "dict_data = {\n",
    "    '学校': '万门大学',  #字符串\n",
    "    '创建于': 2012,  #整数\n",
    "    '课程': ['Python基础', 'Python Django', 'Python爬虫'],  #列表\n",
    "    '部门': ('策划部', '市场部', '人力资源'),  #元组\n",
    "    '老师': {'Python基础': '正正', 'Django': '宁夫'},  #字典\n",
    "}\n",
    "print(dict_data)\n",
    "print(type(dict_data))"
   ]
  },
  {
   "cell_type": "code",
   "execution_count": 1,
   "id": "35f44b5a",
   "metadata": {},
   "outputs": [
    {
     "name": "stdout",
     "output_type": "stream",
     "text": [
      "{} {}\n"
     ]
    }
   ],
   "source": [
    "# 空字典创建\n",
    "dict_empty_1 = dict()\n",
    "dict_empty_2 = {}\n",
    "print(dict_empty_1, dict_empty_2)"
   ]
  },
  {
   "cell_type": "code",
   "execution_count": 3,
   "id": "b81c237e",
   "metadata": {},
   "outputs": [
    {
     "name": "stdout",
     "output_type": "stream",
     "text": [
      "{'姓名': 'mike', 'age': 18}\n",
      "{'姓名': 'mike', 'age': 18}\n"
     ]
    }
   ],
   "source": [
    "# 非空字典的其他建立方式\n",
    "dict_1 = dict({'姓名': 'mike', 'age': 18})\n",
    "dict_2 = dict(姓名='mike', age=18)  #特别注意这里不能使用数字作为键，这里特别像变量赋值―所以要满足变量的条件\n",
    "print(dict_1)\n",
    "print(dict_2)"
   ]
  },
  {
   "cell_type": "markdown",
   "id": "ef832d96",
   "metadata": {},
   "source": [
    "**注意** 字典没有索引这个说法，因为它本身已经有映射关系了，key--value"
   ]
  },
  {
   "cell_type": "markdown",
   "id": "caedb3a8",
   "metadata": {},
   "source": [
    "### 玩转字典--正统系列之增删改查"
   ]
  },
  {
   "cell_type": "code",
   "execution_count": 2,
   "id": "95976579",
   "metadata": {},
   "outputs": [],
   "source": [
    "# 先声明一个字典\n",
    "personal_info = {}"
   ]
  },
  {
   "cell_type": "code",
   "execution_count": 5,
   "id": "19feadf4",
   "metadata": {},
   "outputs": [],
   "source": [
    "# 向增加一条数据\n"
   ]
  },
  {
   "cell_type": "code",
   "execution_count": 4,
   "id": "4f060de9",
   "metadata": {},
   "outputs": [],
   "source": [
    "personal_info[\"name\"] = \"张三\""
   ]
  },
  {
   "cell_type": "code",
   "execution_count": 7,
   "id": "f6f95233",
   "metadata": {},
   "outputs": [],
   "source": [
    "# 修改数据\n"
   ]
  },
  {
   "cell_type": "code",
   "execution_count": 5,
   "id": "ebd5ad6d",
   "metadata": {},
   "outputs": [],
   "source": [
    "personal_info[\"name\"] = \"李四\""
   ]
  },
  {
   "cell_type": "code",
   "execution_count": 6,
   "id": "57ae3aae",
   "metadata": {},
   "outputs": [
    {
     "data": {
      "text/plain": [
       "'地瓜'"
      ]
     },
     "execution_count": 6,
     "metadata": {},
     "output_type": "execute_result"
    }
   ],
   "source": [
    "# 数据的查询\n",
    "# 第一个方法 常规方法：根据键，查值\n",
    "personal_info[\"name\"]"
   ]
  },
  {
   "cell_type": "code",
   "execution_count": 7,
   "id": "02aec7b5",
   "metadata": {},
   "outputs": [
    {
     "data": {
      "text/plain": [
       "'地瓜'"
      ]
     },
     "execution_count": 7,
     "metadata": {},
     "output_type": "execute_result"
    }
   ],
   "source": [
    "# 第二个方法get  有异常处理机制，可以自定义异常返回值\n",
    "personal_info.get(\"name\")"
   ]
  },
  {
   "cell_type": "code",
   "execution_count": 11,
   "id": "3bd18e39",
   "metadata": {},
   "outputs": [],
   "source": [
    "# 数据的删除\n",
    "personal_info = {'姓名': '正正', '年龄': 28, '性别': '男', '城市': '海口'}"
   ]
  },
  {
   "cell_type": "code",
   "execution_count": 12,
   "id": "7afecabc",
   "metadata": {},
   "outputs": [],
   "source": [
    "# pop 方法\n",
    "# 字典的pop方法必须给出一个key，没有默认值"
   ]
  },
  {
   "cell_type": "code",
   "execution_count": 13,
   "id": "534ca151",
   "metadata": {
    "scrolled": true
   },
   "outputs": [
    {
     "data": {
      "text/plain": [
       "'正正'"
      ]
     },
     "execution_count": 13,
     "metadata": {},
     "output_type": "execute_result"
    }
   ],
   "source": [
    "personal_info.pop(\"姓名\")"
   ]
  },
  {
   "cell_type": "code",
   "execution_count": 14,
   "id": "e7e4c612",
   "metadata": {},
   "outputs": [],
   "source": [
    "# clear方法\n",
    "personal_info.clear()"
   ]
  },
  {
   "cell_type": "code",
   "execution_count": 15,
   "id": "dbd4071b",
   "metadata": {
    "scrolled": true
   },
   "outputs": [],
   "source": [
    "# del 彻底删除结构\n",
    "del personal_info"
   ]
  },
  {
   "cell_type": "markdown",
   "id": "c0f793c8",
   "metadata": {},
   "source": [
    "### 玩转列表-- 方法和功能"
   ]
  },
  {
   "cell_type": "code",
   "execution_count": 16,
   "id": "e05b04f0",
   "metadata": {},
   "outputs": [],
   "source": [
    "# 字典的长度---len()\n",
    "# 因为字典的特性--他的键值对是一个元素所\n",
    "personal_info = {'姓名': '正正', '年龄': 30, '性别': '男', '城市': '上海'}\n",
    "\n",
    "# 列表中有多少键值对？\n",
    "# 4 对\n"
   ]
  },
  {
   "cell_type": "code",
   "execution_count": null,
   "id": "65b88c1e",
   "metadata": {
    "is_executing": true
   },
   "outputs": [],
   "source": [
    "# 创建字典的另类方法\n",
    "# 通过键的集合，创建字典\n",
    "keys = ['姓名', '电话', '年龄', '学历', '城市']\n",
    "new_dict = dict.fromkeys(keys, '未知')\n",
    "new_dict"
   ]
  },
  {
   "cell_type": "markdown",
   "id": "dd59e028",
   "metadata": {},
   "source": [
    "### items(),keys(),values()--字典的核心功能"
   ]
  },
  {
   "cell_type": "code",
   "execution_count": 18,
   "id": "aaf796a6",
   "metadata": {},
   "outputs": [],
   "source": [
    "# 先声明一个字典\n",
    "personal_info = {'姓名': '正正', '年龄': 30, '性别': '男', '城市': '上海'}"
   ]
  },
  {
   "cell_type": "code",
   "execution_count": 19,
   "id": "8a587269",
   "metadata": {
    "scrolled": true
   },
   "outputs": [
    {
     "name": "stdout",
     "output_type": "stream",
     "text": [
      "姓名 正正\n",
      "年龄 30\n",
      "性别 男\n",
      "城市 上海\n"
     ]
    }
   ],
   "source": [
    "# items()  主力\n",
    "# 使用for循环，输出键值对\n",
    "for i, j in personal_info.items():\n",
    "    print(i, j)\n"
   ]
  },
  {
   "cell_type": "code",
   "execution_count": 20,
   "id": "795d7e3c",
   "metadata": {
    "scrolled": false
   },
   "outputs": [
    {
     "name": "stdout",
     "output_type": "stream",
     "text": [
      "姓名\n",
      "年龄\n",
      "性别\n",
      "城市\n"
     ]
    }
   ],
   "source": [
    "# keys() 辅助\n",
    "# 使用for循环，输出键key\n",
    "for i in personal_info.keys():\n",
    "    print(i)"
   ]
  },
  {
   "cell_type": "code",
   "execution_count": 21,
   "id": "279029b6",
   "metadata": {
    "scrolled": false
   },
   "outputs": [
    {
     "name": "stdout",
     "output_type": "stream",
     "text": [
      "正正\n",
      "30\n",
      "男\n",
      "上海\n"
     ]
    }
   ],
   "source": [
    "# values() 辅助\n",
    "# 使用for循环，输出值value\n",
    "for i in personal_info.values():\n",
    "    print(i)"
   ]
  },
  {
   "cell_type": "markdown",
   "id": "d7efd20d",
   "metadata": {},
   "source": [
    "### 字典的更新"
   ]
  },
  {
   "cell_type": "code",
   "execution_count": 1,
   "id": "af9feaf1",
   "metadata": {},
   "outputs": [
    {
     "data": {
      "text/plain": [
       "{'姓名': '正正', '年龄': 25, '性别': '男', '城市': '上海'}"
      ]
     },
     "execution_count": 1,
     "metadata": {},
     "output_type": "execute_result"
    }
   ],
   "source": [
    "info1 = {'姓名': '正正', '年龄': 30}\n",
    "info2 = {'性别': '男', '城市': '上海', '年龄': 25}\n",
    "info1.update(info2)\n",
    "# 遇到重复key, key的值会更新,遇到不存在直接增加\n",
    "# 更新的是当前字典\n",
    "info1"
   ]
  },
  {
   "cell_type": "markdown",
   "id": "e2988dfb",
   "metadata": {},
   "source": [
    "### 创建默认值"
   ]
  },
  {
   "cell_type": "code",
   "execution_count": 2,
   "id": "f4eba915",
   "metadata": {
    "scrolled": true
   },
   "outputs": [
    {
     "data": {
      "text/plain": [
       "{'姓名': '正正', '年龄': 30, '城市': '上海'}"
      ]
     },
     "execution_count": 2,
     "metadata": {},
     "output_type": "execute_result"
    }
   ],
   "source": [
    "info1 = {'姓名': '正正', '年龄': 30}\n",
    "info1.setdefault('城市', '上海')  # 如果key存在则‘不作为’，否则加入带有默认值的键值对\n",
    "info1"
   ]
  },
  {
   "cell_type": "markdown",
   "id": "a62f6f31",
   "metadata": {},
   "source": [
    "### 基于键key的包含关系"
   ]
  },
  {
   "cell_type": "code",
   "execution_count": 3,
   "id": "20601c84",
   "metadata": {
    "scrolled": true
   },
   "outputs": [
    {
     "name": "stdout",
     "output_type": "stream",
     "text": [
      "姓名： 正正\n"
     ]
    }
   ],
   "source": [
    "info1 = {'姓名': '正正', '年龄': 30}\n",
    "if '姓名' in info1:\n",
    "    print('姓名：', info1['姓名'])\n",
    "else:\n",
    "    print('数据不包含姓名')"
   ]
  },
  {
   "cell_type": "markdown",
   "id": "864f482d",
   "metadata": {},
   "source": [
    "## 字典的融汇贯通"
   ]
  },
  {
   "cell_type": "code",
   "execution_count": 25,
   "id": "88fa5768",
   "metadata": {},
   "outputs": [
    {
     "name": "stdout",
     "output_type": "stream",
     "text": [
      "月份： 一月 工资: 5000\n",
      "月份： 二月 工资: 3000\n",
      "月份： 三月 工资: 4500\n"
     ]
    }
   ],
   "source": [
    "# 打印输出  键值对 key 和value\n",
    "wages_by_month = {\n",
    "    '一月': 5000,\n",
    "    '二月': 3000,\n",
    "    '三月': 4500,\n",
    "}\n",
    "# 输出月份和每个月的工资\n",
    "for i, j in wages_by_month.items():\n",
    "    print(\"月份：\", i, \"工资:\", j)"
   ]
  },
  {
   "cell_type": "code",
   "execution_count": 26,
   "id": "43742d2c",
   "metadata": {},
   "outputs": [
    {
     "data": {
      "text/plain": [
       "12500"
      ]
     },
     "execution_count": 26,
     "metadata": {},
     "output_type": "execute_result"
    }
   ],
   "source": [
    "#计算工资总和\n",
    "# 使用变量累加\n",
    "total = 0\n",
    "for i in wages_by_month.values():\n",
    "    total += i\n",
    "total"
   ]
  },
  {
   "cell_type": "code",
   "execution_count": 27,
   "id": "d3f2b698",
   "metadata": {
    "scrolled": true
   },
   "outputs": [
    {
     "name": "stdout",
     "output_type": "stream",
     "text": [
      "月份: 一月 工资:  5000\n",
      "月份: 二月 工资:  3000\n",
      "月份: 三月 工资:  4500\n",
      "[5000, 3000, 4500]\n",
      "1到3月份工资总和为:12500元\n"
     ]
    }
   ],
   "source": [
    "# 计算工资总和第二种写法\n",
    "# 使用列表添加然后sum计算总和\n",
    "total = []\n",
    "for month, wages in wages_by_month.items():\n",
    "    print('月份:', month, '工资: ', wages)\n",
    "    total.append(wages)\n",
    "print(total)\n",
    "total = sum(total)\n",
    "print('1到3月份工资总和为:%d元' % total)"
   ]
  },
  {
   "cell_type": "code",
   "execution_count": 28,
   "id": "aa41b14b",
   "metadata": {},
   "outputs": [
    {
     "name": "stdout",
     "output_type": "stream",
     "text": [
      "[{'姓名': '赵六', '年龄': 20, '性别': '男', '工资': 10000}, {'姓名': '七七', '年龄': 21, '性别': '男', '工资': 8000}, {'姓名': '王五', '年龄': 25, '性别': '女', '工资': 9000}]\n"
     ]
    }
   ],
   "source": [
    "#用列表和字典搭建一个简单的数据结构\n",
    "employee_1 = {'姓名': '张三', '年龄': 20, '性别': '男', '工资': 10000}\n",
    "employee_2 = {'姓名': '李四', '年龄': 21, '性别': '男', '工资': 8000}\n",
    "employee_3 = {'姓名': '王五', '年龄': 25, '性别': '女', '工资': 9000}\n",
    "HR_data = [employee_1, employee_2, employee_3]\n",
    "print(HR_data)\n"
   ]
  },
  {
   "cell_type": "code",
   "execution_count": 29,
   "id": "979dc7bb",
   "metadata": {},
   "outputs": [
    {
     "name": "stdout",
     "output_type": "stream",
     "text": [
      "10000\n",
      "8000\n"
     ]
    }
   ],
   "source": [
    "# 列出男员工的工资\n",
    "for i in HR_data:\n",
    "    if i[\"性别\"] == \"男\":\n",
    "        print(i[\"工资\"])\n"
   ]
  },
  {
   "cell_type": "code",
   "execution_count": 30,
   "id": "74e091d1",
   "metadata": {},
   "outputs": [
    {
     "name": "stdout",
     "output_type": "stream",
     "text": [
      "赵六\n",
      "王五\n"
     ]
    }
   ],
   "source": [
    "# 给出工资不低于9000的员工姓名\n",
    "for i in HR_data:\n",
    "    if i[\"工资\"] >= 9000:\n",
    "        print(i[\"姓名\"])\n",
    "\n"
   ]
  },
  {
   "cell_type": "code",
   "execution_count": 31,
   "id": "e1e3ddf7",
   "metadata": {},
   "outputs": [
    {
     "name": "stdout",
     "output_type": "stream",
     "text": [
      "3\n"
     ]
    }
   ],
   "source": [
    "# 统计年龄大于20岁的员工数量\n",
    "j = 0\n",
    "for i in HR_data:\n",
    "    if i[\"年龄\"] >= 20:\n",
    "        j += 1\n",
    "print(j)"
   ]
  }
 ],
 "metadata": {
  "kernelspec": {
   "display_name": "Python 3.9.10 64-bit",
   "language": "python",
   "name": "python3"
  },
  "language_info": {
   "codemirror_mode": {
    "name": "ipython",
    "version": 3
   },
   "file_extension": ".py",
   "mimetype": "text/x-python",
   "name": "python",
   "nbconvert_exporter": "python",
   "pygments_lexer": "ipython3",
   "version": "3.9.10"
  },
  "vscode": {
   "interpreter": {
    "hash": "67f1dc6f6f712f7142079021955b91e049abb319dcfdc9eed010dd73dd4d845d"
   }
  }
 },
 "nbformat": 4,
 "nbformat_minor": 5
}
